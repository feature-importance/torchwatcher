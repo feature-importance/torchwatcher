{
 "cells": [
  {
   "cell_type": "code",
   "id": "initial_id",
   "metadata": {
    "collapsed": true,
    "ExecuteTime": {
     "end_time": "2025-06-16T19:52:35.755771Z",
     "start_time": "2025-06-16T19:52:31.273219Z"
    }
   },
   "source": [
    "import torch\n",
    "\n",
    "inp, outp = 32*32, 32*32\n",
    "inter = 32*32\n",
    "\n",
    "rnd = torch.randn\n",
    "\n",
    "for i in range(100):\n",
    "    m_star = rnd((inp, outp))\n",
    "    # print(torch.linalg.matrix_rank(m_star))\n",
    "\n",
    "    m_1 = rnd((inp, inter))\n",
    "    # print(torch.linalg.matrix_rank(m_1))\n",
    "    m_2 = rnd((inter, inter))\n",
    "    # print(torch.linalg.matrix_rank(m_2))\n",
    "    m_3 = rnd((inter, outp))\n",
    "    # print(torch.linalg.matrix_rank(m_3))\n",
    "    m_prime = m_1 @ m_2 @ m_3\n",
    "    print(torch.linalg.matrix_rank(m_star), torch.linalg.matrix_rank(m_prime))\n"
   ],
   "outputs": [
    {
     "name": "stdout",
     "output_type": "stream",
     "text": [
      "tensor(1024) tensor(995)\n",
      "tensor(1023) tensor(994)\n",
      "tensor(1023) tensor(992)\n",
      "tensor(1024) tensor(994)\n",
      "tensor(1024) tensor(993)\n",
      "tensor(1023) tensor(992)\n",
      "tensor(1024) tensor(992)\n",
      "tensor(1024) tensor(993)\n",
      "tensor(1024) tensor(994)\n",
      "tensor(1024) tensor(994)\n",
      "tensor(1023) tensor(991)\n",
      "tensor(1024) tensor(996)\n",
      "tensor(1023) tensor(995)\n",
      "tensor(1024) tensor(994)\n",
      "tensor(1024) tensor(994)\n",
      "tensor(1024) tensor(993)\n",
      "tensor(1024) tensor(994)\n",
      "tensor(1024) tensor(994)\n",
      "tensor(1024) tensor(994)\n",
      "tensor(1024) tensor(995)\n",
      "tensor(1024) tensor(995)\n",
      "tensor(1023) tensor(993)\n",
      "tensor(1023) tensor(993)\n",
      "tensor(1024) tensor(993)\n",
      "tensor(1024) tensor(993)\n"
     ]
    },
    {
     "ename": "KeyboardInterrupt",
     "evalue": "",
     "output_type": "error",
     "traceback": [
      "\u001B[31m---------------------------------------------------------------------------\u001B[39m",
      "\u001B[31mKeyboardInterrupt\u001B[39m                         Traceback (most recent call last)",
      "\u001B[36mCell\u001B[39m\u001B[36m \u001B[39m\u001B[32mIn[4]\u001B[39m\u001B[32m, line 19\u001B[39m\n\u001B[32m     17\u001B[39m \u001B[38;5;66;03m# print(torch.linalg.matrix_rank(m_3))\u001B[39;00m\n\u001B[32m     18\u001B[39m m_prime = torch.relu(torch.relu(m_1) @ m_2) @ m_3\n\u001B[32m---> \u001B[39m\u001B[32m19\u001B[39m \u001B[38;5;28mprint\u001B[39m(torch.linalg.matrix_rank(m_star), \u001B[43mtorch\u001B[49m\u001B[43m.\u001B[49m\u001B[43mlinalg\u001B[49m\u001B[43m.\u001B[49m\u001B[43mmatrix_rank\u001B[49m\u001B[43m(\u001B[49m\u001B[43mm_prime\u001B[49m\u001B[43m)\u001B[49m)\n",
      "\u001B[31mKeyboardInterrupt\u001B[39m: "
     ]
    }
   ],
   "execution_count": 4
  },
  {
   "metadata": {},
   "cell_type": "code",
   "outputs": [],
   "execution_count": null,
   "source": "",
   "id": "726a99ba5e91fa61"
  }
 ],
 "metadata": {
  "kernelspec": {
   "display_name": "Python 3",
   "language": "python",
   "name": "python3"
  },
  "language_info": {
   "codemirror_mode": {
    "name": "ipython",
    "version": 2
   },
   "file_extension": ".py",
   "mimetype": "text/x-python",
   "name": "python",
   "nbconvert_exporter": "python",
   "pygments_lexer": "ipython2",
   "version": "2.7.6"
  }
 },
 "nbformat": 4,
 "nbformat_minor": 5
}
